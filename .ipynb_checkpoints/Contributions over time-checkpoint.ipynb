{
 "metadata": {
  "name": ""
 },
 "nbformat": 3,
 "nbformat_minor": 0,
 "worksheets": [
  {
   "cells": [
    {
     "cell_type": "code",
     "collapsed": false,
     "input": [
      "from pandas import DataFrame, read_csv\n",
      "\n",
      "import matplotlib.pyplot as plt\n",
      "import pandas as pd\n",
      "import numpy as np\n",
      "\n",
      "pd.set_option('display.line_width', 5000) \n",
      "pd.set_option('display.max_columns', 60) \n",
      "\n",
      "%matplotlib inline"
     ],
     "language": "python",
     "metadata": {},
     "outputs": [
      {
       "metadata": {},
       "output_type": "pyout",
       "prompt_number": 22,
       "text": [
        "200.0"
       ]
      }
     ],
     "prompt_number": 22
    },
    {
     "cell_type": "code",
     "collapsed": false,
     "input": [
      "# Read in the data\n",
      "Location = \"data/contributions_6-16-14.csv\"\n",
      "df = read_csv(Location)\n",
      "\n",
      "# Remove all non-mayor race contributions\n",
      "mayor_ids = ['1357609', '1354678', '1362261', '1359017', '1342695']\n",
      "df = df[df['Filer_ID'].isin(mayor_ids)]\n",
      "\n",
      "def toFloat(x):\n",
      "    x = x.replace(',', '')\n",
      "    x = x.replace('$', '')\n",
      "    x = x.replace('(', '')\n",
      "    x = x.replace(')', '')\n",
      "    return float(x)\n",
      "\n",
      "# Convert dollars contributed to a float\n",
      "df['Tran_Amt1'] = df['Tran_Amt1'].map(toFloat)\n",
      "\n",
      "df.info()"
     ],
     "language": "python",
     "metadata": {},
     "outputs": [
      {
       "output_type": "stream",
       "stream": "stdout",
       "text": [
        "<class 'pandas.core.frame.DataFrame'>\n",
        "Int64Index: 1540 entries, 1746 to 3711\n",
        "Data columns (total 78 columns):\n",
        "Filer_ID                  1540 non-null object\n",
        "Filer_NamL                1540 non-null object\n",
        "Report_Num                1540 non-null int64\n",
        "Committee_Type            1540 non-null object\n",
        "Rpt_Date                  1540 non-null object\n",
        "From_Date                 1540 non-null object\n",
        "Thru_Date                 1540 non-null object\n",
        "Elect_Date                1073 non-null object\n",
        "tblCover_Office_Cd        0 non-null float64\n",
        "tblCover_Offic_Dscr       0 non-null float64\n",
        "Rec_Type                  1540 non-null object\n",
        "Form_Type                 1540 non-null object\n",
        "Tran_ID                   1540 non-null object\n",
        "Entity_Cd                 1540 non-null object\n",
        "Tran_NamL                 1540 non-null object\n",
        "Tran_NamF                 1444 non-null object\n",
        "Tran_NamT                 7 non-null object\n",
        "Tran_NamS                 0 non-null object\n",
        "Tran_Adr1                 0 non-null float64\n",
        "Tran_Adr2                 0 non-null float64\n",
        "Tran_City                 1540 non-null object\n",
        "Tran_State                1539 non-null object\n",
        "Tran_Zip4                 1540 non-null object\n",
        "Tran_Emp                  1401 non-null object\n",
        "Tran_Occ                  1444 non-null object\n",
        "Tran_Self                 1540 non-null object\n",
        "Tran_Type                 3 non-null object\n",
        "Tran_Date                 1540 non-null object\n",
        "Tran_Date1                0 non-null float64\n",
        "Tran_Amt1                 1540 non-null float64\n",
        "Tran_Amt2                 1540 non-null object\n",
        "Tran_Dscr                 1 non-null object\n",
        "Cmte_ID                   0 non-null object\n",
        "Tres_NamL                 0 non-null float64\n",
        "Tres_NamF                 0 non-null float64\n",
        "Tres_NamT                 0 non-null float64\n",
        "Tres_NamS                 0 non-null float64\n",
        "Tres_Adr1                 0 non-null float64\n",
        "Tres_Adr2                 0 non-null float64\n",
        "Tres_City                 0 non-null float64\n",
        "Tres_State                0 non-null float64\n",
        "Tres_Zip                  0 non-null float64\n",
        "Intr_NamL                 0 non-null object\n",
        "Intr_NamF                 0 non-null float64\n",
        "Intr_NamT                 0 non-null float64\n",
        "Intr_NamS                 0 non-null float64\n",
        "Intr_Adr1                 0 non-null float64\n",
        "Intr_Adr2                 0 non-null float64\n",
        "Intr_City                 0 non-null object\n",
        "Intr_State                0 non-null object\n",
        "Intr_Zip4                 0 non-null float64\n",
        "Intr_Emp                  0 non-null float64\n",
        "Intr_Occ                  0 non-null float64\n",
        "Intr_Self                 1540 non-null object\n",
        "Cand_NamL                 0 non-null float64\n",
        "Cand_NamF                 0 non-null float64\n",
        "Cand_NamT                 0 non-null float64\n",
        "Cand_NamS                 0 non-null float64\n",
        "tblDetlTran_Office_Cd     0 non-null object\n",
        "tblDetlTran_Offic_Dscr    0 non-null object\n",
        "Juris_Cd                  0 non-null object\n",
        "Juris_Dscr                0 non-null float64\n",
        "Dist_No                   0 non-null float64\n",
        "Off_S_H_Cd                0 non-null float64\n",
        "Bal_Name                  0 non-null float64\n",
        "Bal_Num                   0 non-null float64\n",
        "Bal_Juris                 0 non-null float64\n",
        "Sup_Opp_Cd                0 non-null float64\n",
        "Memo_Code                 0 non-null float64\n",
        "Memo_RefNo                3 non-null object\n",
        "BakRef_TID                0 non-null float64\n",
        "XRef_SchNm                0 non-null float64\n",
        "XRef_Match                0 non-null float64\n",
        "Loan_Rate                 0 non-null float64\n",
        "Int_CmteId                0 non-null float64\n",
        "Tran_Location             0 non-null float64\n",
        "Tres_Location             0 non-null float64\n",
        "Intr_Location             0 non-null float64\n",
        "dtypes: float64(43), int64(1), object(34)"
       ]
      }
     ],
     "prompt_number": 27
    },
    {
     "cell_type": "code",
     "collapsed": false,
     "input": [],
     "language": "python",
     "metadata": {},
     "outputs": []
    }
   ],
   "metadata": {}
  }
 ]
}