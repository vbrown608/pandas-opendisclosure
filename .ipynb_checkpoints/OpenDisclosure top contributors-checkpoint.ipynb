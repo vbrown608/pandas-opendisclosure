{
 "metadata": {
  "name": ""
 },
 "nbformat": 3,
 "nbformat_minor": 0,
 "worksheets": [
  {
   "cells": [
    {
     "cell_type": "code",
     "collapsed": false,
     "input": [
      "from pandas import DataFrame, read_csv\n",
      "\n",
      "import matplotlib.pyplot as plt\n",
      "import pandas as pd\n",
      "\n",
      "pd.set_option('display.line_width', 5000) \n",
      "pd.set_option('display.max_columns', 60) \n",
      "\n",
      "%matplotlib inline"
     ],
     "language": "python",
     "metadata": {},
     "outputs": [],
     "prompt_number": 80
    },
    {
     "cell_type": "code",
     "collapsed": false,
     "input": [
      "# Read in the data\n",
      "Location = \"Campaign_Finance_-_FPPC_Form_460_-_Schedule_A_-_Monetary_Contributions.csv\"\n",
      "df = read_csv(Location)"
     ],
     "language": "python",
     "metadata": {},
     "outputs": [],
     "prompt_number": 191
    },
    {
     "cell_type": "code",
     "collapsed": false,
     "input": [
      "# Remove all non-mayor race contributions\n",
      "df['Filter_ID'] = df['Filer_ID'].astype(str)\n",
      "mayor_ids = ['1357609', '1354678', '1362261', '1359017']\n",
      "df = df[df['Filer_ID'].isin(mayor_ids)]\n",
      "\n",
      "# Convert dollars contributed to a float\n",
      "df['Tran_Amt1'] = df['Tran_Amt1'].str[1:].astype(float)"
     ],
     "language": "python",
     "metadata": {},
     "outputs": [],
     "prompt_number": 192
    },
    {
     "cell_type": "code",
     "collapsed": false,
     "input": [
      "# Sum contributions from a single donor (or couple) to a single campaign \n",
      "# into one line\n",
      "Columns = ['Filer_NamL', 'Tran_Amt1']\n",
      "candidate_totals = df.groupby(['Filer_NamL', 'Tran_NamF', 'Tran_NamL']).sum()\n",
      "top_totals = candidate_totals\n",
      "# top_totals = candidate_totals.sort(['Tran_Amt1'], ascending=False)\n",
      "top_totals['Tran_Amt1'].head(5)"
     ],
     "language": "python",
     "metadata": {},
     "outputs": [
      {
       "metadata": {},
       "output_type": "pyout",
       "prompt_number": 193,
       "text": [
        "Filer_NamL                Tran_NamF  Tran_NamL\n",
        "Joe Tuman for Mayor 2014  Abe        Feinberg     100\n",
        "                          Adam       Cohen        700\n",
        "                          Alan       Koch         500\n",
        "                          Alecto     Caldwell     700\n",
        "                          Allan      Chan         250\n",
        "Name: Tran_Amt1, dtype: float64"
       ]
      }
     ],
     "prompt_number": 193
    },
    {
     "cell_type": "code",
     "collapsed": false,
     "input": [
      "# Find the max donor to each campaign\n",
      "f = lambda x: x.sort('Tran_Amt1', ascending=False)\n",
      "candidate_max_donor = top_totals.groupby(level=0).apply(f).head(3)\n",
      "candidate_max_donor['Tran_Amt1']"
     ],
     "language": "python",
     "metadata": {},
     "outputs": [
      {
       "ename": "TypeError",
       "evalue": "'bool' object is not callable",
       "output_type": "pyerr",
       "traceback": [
        "\u001b[0;31m---------------------------------------------------------------------------\u001b[0m\n\u001b[0;31mTypeError\u001b[0m                                 Traceback (most recent call last)",
        "\u001b[0;32m<ipython-input-197-1116ae3eb1ae>\u001b[0m in \u001b[0;36m<module>\u001b[0;34m()\u001b[0m\n\u001b[1;32m      1\u001b[0m \u001b[0;31m# Find the max donor to each campaign\u001b[0m\u001b[0;34m\u001b[0m\u001b[0;34m\u001b[0m\u001b[0m\n\u001b[0;32m----> 2\u001b[0;31m \u001b[0mcandidate_max_donor\u001b[0m \u001b[0;34m=\u001b[0m \u001b[0mtop_totals\u001b[0m\u001b[0;34m.\u001b[0m\u001b[0mgroupby\u001b[0m\u001b[0;34m(\u001b[0m\u001b[0mlevel\u001b[0m\u001b[0;34m=\u001b[0m\u001b[0;36m0\u001b[0m\u001b[0;34m)\u001b[0m\u001b[0;34m.\u001b[0m\u001b[0msort\u001b[0m\u001b[0;34m(\u001b[0m\u001b[0;34m'Tram_Amt1'\u001b[0m\u001b[0;34m)\u001b[0m\u001b[0;34m.\u001b[0m\u001b[0mhead\u001b[0m\u001b[0;34m(\u001b[0m\u001b[0;36m3\u001b[0m\u001b[0;34m)\u001b[0m\u001b[0;34m\u001b[0m\u001b[0m\n\u001b[0m\u001b[1;32m      3\u001b[0m \u001b[0mcandidate_max_donor\u001b[0m\u001b[0;34m[\u001b[0m\u001b[0;34m'Tran_Amt1'\u001b[0m\u001b[0;34m]\u001b[0m\u001b[0;34m\u001b[0m\u001b[0m\n",
        "\u001b[0;31mTypeError\u001b[0m: 'bool' object is not callable"
       ]
      }
     ],
     "prompt_number": 197
    },
    {
     "cell_type": "code",
     "collapsed": false,
     "input": [],
     "language": "python",
     "metadata": {},
     "outputs": []
    }
   ],
   "metadata": {}
  }
 ]
}