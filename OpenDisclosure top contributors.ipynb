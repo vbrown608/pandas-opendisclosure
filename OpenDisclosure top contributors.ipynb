{
 "metadata": {
  "name": ""
 },
 "nbformat": 3,
 "nbformat_minor": 0,
 "worksheets": [
  {
   "cells": [
    {
     "cell_type": "code",
     "collapsed": false,
     "input": [
      "from pandas import DataFrame, read_csv\n",
      "\n",
      "import matplotlib.pyplot as plt\n",
      "import pandas as pd\n",
      "\n",
      "pd.set_option('display.line_width', 5000) \n",
      "pd.set_option('display.max_columns', 60) \n",
      "\n",
      "%matplotlib inline"
     ],
     "language": "python",
     "metadata": {},
     "outputs": [],
     "prompt_number": 2
    },
    {
     "cell_type": "code",
     "collapsed": false,
     "input": [
      "# Read in the data\n",
      "Location = \"data/Campaign_Finance_-_FPPC_Form_460_-_Schedule_A_-_Monetary_Contributions.csv\"\n",
      "df = read_csv(Location)"
     ],
     "language": "python",
     "metadata": {},
     "outputs": [],
     "prompt_number": 3
    },
    {
     "cell_type": "code",
     "collapsed": false,
     "input": [
      "# Remove all non-mayor race contributions\n",
      "mayor_ids = ['1357609', '1354678', '1362261', '1359017']\n",
      "df = df[df['Filer_ID'].isin(mayor_ids)]\n",
      "\n",
      "# Convert dollars contributed to a float\n",
      "df['Tran_Amt1'] = df['Tran_Amt1'].str[1:].astype(float)"
     ],
     "language": "python",
     "metadata": {},
     "outputs": [],
     "prompt_number": 233
    },
    {
     "cell_type": "code",
     "collapsed": false,
     "input": [
      "# Find the top donors overall (inlcuding donors to multiple campaigns)\n",
      "unique_donors = df.groupby(['Tran_NamF', 'Tran_NamL']).sum().sort('Tran_Amt1', ascending=False)\n",
      "unique_donors['Tran_Amt1'].head(5)"
     ],
     "language": "python",
     "metadata": {},
     "outputs": [
      {
       "metadata": {},
       "output_type": "pyout",
       "prompt_number": 234,
       "text": [
        "Tran_NamF             Tran_NamL\n",
        "Thomas                Henderson    1400\n",
        "Mr and Mrs EM Edward  Downer       1400\n",
        "Suzanne               Skugstad     1400\n",
        "Sabrina               Foster       1400\n",
        "John and Alanna       Dittoe       1400\n",
        "Name: Tran_Amt1, dtype: float64"
       ]
      }
     ],
     "prompt_number": 234
    },
    {
     "cell_type": "code",
     "collapsed": false,
     "input": [
      "# Sum contributions from a single donor (or couple) to a single campaign \n",
      "# into one line\n",
      "top_totals = df.groupby(['Filer_NamL', 'Tran_NamF', 'Tran_NamL']).sum()"
     ],
     "language": "python",
     "metadata": {},
     "outputs": [],
     "prompt_number": 235
    },
    {
     "cell_type": "code",
     "collapsed": false,
     "input": [
      "# Find the max donor to each campaign\n",
      "sort_amt = lambda x: x.sort('Tran_Amt1', ascending=False)\n",
      "candidate_max = top_totals.groupby(level=0).apply(sort_amt)\n",
      "top_three_rows = lambda x: x[:3]\n",
      "candidate_max = candidate_max.groupby(level=0).apply(top_three_rows).reset_index([0,1], drop=True)\n",
      "candidate_max['Tran_Amt1']"
     ],
     "language": "python",
     "metadata": {},
     "outputs": [
      {
       "metadata": {},
       "output_type": "pyout",
       "prompt_number": 236,
       "text": [
        "Filer_NamL                           Tran_NamF        Tran_NamL \n",
        "Joe Tuman for Mayor 2014             John and Alanna  Dittoe        1400\n",
        "                                     Patricia & Tony  Theophilos    1400\n",
        "                                     Robert & Ann     Spears        1400\n",
        "Libby Schaaf for Oakland Mayor 2014  Sal              Fahey         1000\n",
        "                                     Melissa          Heller         700\n",
        "                                     Janine           Rogers         700\n",
        "Parker for Oakland Mayor 2014        Rachelle         Hebrard        700\n",
        "                                     Michael          Barry          700\n",
        "                                     Naveen           Jain           700\n",
        "Re-Elect Mayor Quan 2014             Paula            Vu             700\n",
        "                                     Kikuko           Ito            700\n",
        "                                     Karina           Cao            700\n",
        "Name: Tran_Amt1, dtype: float64"
       ]
      }
     ],
     "prompt_number": 236
    },
    {
     "cell_type": "code",
     "collapsed": false,
     "input": [],
     "language": "python",
     "metadata": {},
     "outputs": []
    }
   ],
   "metadata": {}
  }
 ]
}