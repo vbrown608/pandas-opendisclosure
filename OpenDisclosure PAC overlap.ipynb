{
 "metadata": {
  "name": ""
 },
 "nbformat": 3,
 "nbformat_minor": 0,
 "worksheets": [
  {
   "cells": [
    {
     "cell_type": "code",
     "collapsed": false,
     "input": [
      "from pandas import DataFrame, read_csv\n",
      "\n",
      "import matplotlib.pyplot as plt\n",
      "import pandas as pd\n",
      "\n",
      "pd.set_option('display.line_width', 5000) \n",
      "pd.set_option('display.max_columns', 60) \n",
      "\n",
      "%matplotlib inline"
     ],
     "language": "python",
     "metadata": {},
     "outputs": [],
     "prompt_number": 2
    },
    {
     "cell_type": "code",
     "collapsed": false,
     "input": [
      "# Read in the data\n",
      "Location = \"data/Campaign_Finance_-_FPPC_Form_460_-_Schedule_A_-_Monetary_Contributions.csv\"\n",
      "df = read_csv(Location)\n",
      "\n",
      "# Convert dollars contributed to a float\n",
      "df['Tran_Amt1'] = df['Tran_Amt1'].str[1:].astype(float)"
     ],
     "language": "python",
     "metadata": {},
     "outputs": [],
     "prompt_number": 3
    },
    {
     "cell_type": "code",
     "collapsed": false,
     "input": [
      "# Sum by recipient and contributor\n",
      "totals = df.groupby(['Filer_NamL', 'Tran_NamF', 'Tran_NamL']).sum()\n",
      "\n",
      "# Sort each recipient group\n",
      "sort_amt = lambda x: x.sort('Tran_Amt1', ascending=False)\n",
      "candidate_max = totals.groupby(level=0).apply(sort_amt)\n",
      "\n",
      "candidate_max.groupby(level=0).apply(lambda x: x[:3]).reset_index([0,1], drop=True)['Tran_Amt1']"
     ],
     "language": "python",
     "metadata": {},
     "outputs": [
      {
       "metadata": {},
       "output_type": "pyout",
       "prompt_number": 14,
       "text": [
        "Filer_NamL                                                    Tran_NamF  Tran_NamL\n",
        "Amy Lemley for City Council 2012                              Colleen    Ryan          450\n",
        "                                                              Susan      Martin        100\n",
        "                                                              Eric       Martin        100\n",
        "Barbara Parker City Attorney Officeholder Account             Alex       Katz         1400\n",
        "                                                              Mark       Morodomi     1400\n",
        "                                                              Wayne      Nishioka      700\n",
        "Barbara Parker for Oakland City Attorney 2012                 Geoffrey   Spellberg     NaN\n",
        "                                                              Steven     Kay           NaN\n",
        "                                                              Mona       Hanna         700\n",
        "Committee against Measure A                                   Madeline   Hovland      1751\n",
        "                                                              Dan        Grassetti    1426\n",
        "Committee to Elect Don Link to City Council                   Jim        Ratliff       500\n",
        "                                                              Douglas    Wong          200\n",
        "                                                              Linda      Hurd          150\n",
        "Committee to Elect Lynette Gibson-McElhaney for Council 2012  Jasvir     Mand         1400\n",
        "...\n",
        "Re-Elect Jumoke Hinton Hodge for Oakland School Board  Greg        Penner           700.00\n",
        "                                                       Mark        Smith            700.00\n",
        "Re-Elect Larry Reid for City Council 2012              Zhi         Li               700.00\n",
        "                                                       Joseph      Chelstowski      700.00\n",
        "                                                       Jeffery     Mitchell         700.00\n",
        "Re-Elect Mayor Quan 2014                               Paula       Vu               700.00\n",
        "                                                       Kikuko      Ito              700.00\n",
        "                                                       Karina      Cao              700.00\n",
        "Roseann Torres for Oakland School Board                Martin      Caraves         1400.00\n",
        "                                                       Robert      Apodaca         1000.00\n",
        "                                                       Zack        Neumeyer         700.00\n",
        "The Oakland Fund for Keep Oakland Firesafe 2013        Phillip H.  Tagami          5000.00\n",
        "                                                       Teresa      Ferguson        2000.00\n",
        "                                                       Mark        McClure         1000.00\n",
        "Tolbert for City Council 2012                          Dr. Joel    Tolbert        20509.04\n",
        "Name: Tran_Amt1, Length: 96, dtype: float64"
       ]
      }
     ],
     "prompt_number": 14
    },
    {
     "cell_type": "code",
     "collapsed": false,
     "input": [],
     "language": "python",
     "metadata": {},
     "outputs": [
      {
       "metadata": {},
       "output_type": "pyout",
       "prompt_number": 13,
       "text": [
        "<pandas.core.groupby.DataFrameGroupBy object at 0x103642550>"
       ]
      }
     ],
     "prompt_number": 13
    },
    {
     "cell_type": "code",
     "collapsed": false,
     "input": [],
     "language": "python",
     "metadata": {},
     "outputs": []
    }
   ],
   "metadata": {}
  }
 ]
}